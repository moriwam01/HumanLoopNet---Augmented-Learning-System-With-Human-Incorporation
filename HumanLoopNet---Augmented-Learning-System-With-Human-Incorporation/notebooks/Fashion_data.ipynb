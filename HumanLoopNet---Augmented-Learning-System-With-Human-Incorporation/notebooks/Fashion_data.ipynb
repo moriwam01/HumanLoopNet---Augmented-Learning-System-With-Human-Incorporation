{
  "cells": [
    {
      "cell_type": "markdown",
      "metadata": {
        "id": "4WGqZUwSVQf5"
      },
      "source": [
        "Data_Analysis"
      ]
    },
    {
      "cell_type": "code",
      "execution_count": 1,
      "metadata": {
        "id": "PnbWJOotCCC3"
      },
      "outputs": [],
      "source": [
        "# Necessary libraries\n",
        "import pandas as pd\n",
        "import matplotlib.pyplot as plt\n",
        "import seaborn as sns\n",
        "import os\n",
        "import glob\n",
        "import numpy as np\n",
        "import tensorflow as tf\n",
        "from sklearn.model_selection import train_test_split\n",
        "from tensorflow.keras.preprocessing.image import img_to_array, load_img\n",
        "from sklearn.preprocessing import LabelEncoder"
      ]
    },
    {
      "cell_type": "code",
      "execution_count": 4,
      "metadata": {
        "id": "M139EZyOfa0p"
      },
      "outputs": [],
      "source": [
        "# Directory path\n",
        "directory_path = r'C:\\Users\\mariw\\Downloads\\HumanLoopNet---Augmented-Learning-System-With-Human-Incorporation\\Fashion_data'\n",
        "\n",
        "#List of all CSV files in the directory\n",
        "csv_files = glob.glob(os.path.join(directory_path, '*.csv'))\n",
        "\n",
        "# Initializing an empty list to store DataFrames\n",
        "dataframes = []\n",
        "\n",
        "# Iterating through the list of CSV files and loaing them into DataFrames\n",
        "for csv_file in csv_files:\n",
        "    df = pd.read_csv(csv_file)\n",
        "    dataframes.append(df)\n",
        "\n",
        "# Concatenating all DataFrames into a single DataFrame\n",
        "data = pd.concat(dataframes, axis=0, ignore_index=True)"
      ]
    },
    {
      "cell_type": "code",
      "execution_count": 5,
      "metadata": {
        "colab": {
          "base_uri": "https://localhost:8080/"
        },
        "id": "RFSMuF1VUKgb",
        "outputId": "9ff56645-93d0-4e08-f8fc-cee1331a30e8"
      },
      "outputs": [
        {
          "name": "stdout",
          "output_type": "stream",
          "text": [
            "<class 'pandas.core.frame.DataFrame'>\n",
            "RangeIndex: 70000 entries, 0 to 69999\n",
            "Columns: 785 entries, label to pixel784\n",
            "dtypes: int64(785)\n",
            "memory usage: 419.2 MB\n",
            "Index(['label', 'pixel1', 'pixel2', 'pixel3', 'pixel4', 'pixel5', 'pixel6',\n",
            "       'pixel7', 'pixel8', 'pixel9',\n",
            "       ...\n",
            "       'pixel775', 'pixel776', 'pixel777', 'pixel778', 'pixel779', 'pixel780',\n",
            "       'pixel781', 'pixel782', 'pixel783', 'pixel784'],\n",
            "      dtype='object', length=785)\n"
          ]
        }
      ],
      "source": [
        "data.head()\n",
        "data.info()\n",
        "print(data.columns)"
      ]
    },
    {
      "cell_type": "code",
      "execution_count": 6,
      "metadata": {
        "colab": {
          "base_uri": "https://localhost:8080/",
          "height": 564
        },
        "id": "xKbQvv0yUKdj",
        "outputId": "82bb2976-b7bf-418b-e769-dea5d87217ea"
      },
      "outputs": [
        {
          "data": {
            "image/png": "[encoded data removed]",
            "text/plain": [
              "<Figure size 1000x600 with 1 Axes>"
            ]
          },
          "metadata": {},
          "output_type": "display_data"
        }
      ],
      "source": [
        "# Extracting the 'label' column\n",
        "class_labels = data['label']\n",
        "\n",
        "# Visualizing the distribution of classes\n",
        "plt.figure(figsize=(10, 6))\n",
        "sns.countplot(x=class_labels)\n",
        "plt.title('Distribution of Classes')\n",
        "plt.xlabel('Class Label')\n",
        "plt.ylabel('Count')\n",
        "plt.show()"
      ]
    },
    {
      "cell_type": "markdown",
      "metadata": {
        "id": "UvA-1TD9VUYU"
      },
      "source": [
        "Model Development"
      ]
    },
    {
      "cell_type": "code",
      "execution_count": 7,
      "metadata": {
        "id": "L6JhZNkjUKaM"
      },
      "outputs": [],
      "source": [
        "# Image size\n",
        "IMG_WIDTH, IMG_HEIGHT = 100, 100\n",
        "\n",
        "# Preprocessing\n",
        "def preprocess_data(data):\n",
        "    X = []\n",
        "    y = []\n",
        "\n",
        "    for index, row in data.iterrows():\n",
        "        image = load_img(row[r'C:\\Users\\mariw\\Downloads\\HumanLoopNet---Augmented-Learning-System-With-Human-Incorporation\\Fashion_data\\train-images-idx3-ubyte'], target_size=(IMG_WIDTH, IMG_HEIGHT))\n",
        "        image = img_to_array(image)\n",
        "        image = image / 255.0\n",
        "        X.append(image)\n",
        "        y.append(row['class_label'])\n",
        "\n",
        "    X = np.array(X)\n",
        "    y = np.array(y)\n",
        "\n",
        "    # Encoding the target labels\n",
        "    label_encoder = LabelEncoder()\n",
        "    y = label_encoder.fit_transform(y)\n",
        "\n",
        "    return X, y"
      ]
    },
    {
      "cell_type": "code",
      "execution_count": 9,
      "metadata": {
        "id": "xtiffQopUKXl"
      },
      "outputs": [],
      "source": [
        "import idx2numpy as idx\n",
        "# Paths to the image data and labels\n",
        "image_path = r'C:\\Users\\mariw\\Downloads\\HumanLoopNet---Augmented-Learning-System-With-Human-Incorporation\\Fashion_data\\train-images-idx3-ubyte'\n",
        "label_path = r'C:\\Users\\mariw\\Downloads\\HumanLoopNet---Augmented-Learning-System-With-Human-Incorporation\\Fashion_data\\train-labels-idx1-ubyte'\n",
        "X = idx.convert_from_file(image_path)\n",
        "y = idx.convert_from_file(label_path)\n",
        "X = X.reshape(X.shape[0], -1)\n",
        "\n",
        "# DataFrame\n",
        "data = pd.DataFrame({\n",
        "    'image_data': np.array(X).tolist(),\n",
        "    'class_label': y\n",
        "})"
      ]
    },
    {
      "cell_type": "code",
      "execution_count": 10,
      "metadata": {
        "id": "H3wPpFw6UKUR"
      },
      "outputs": [],
      "source": [
        "X_train, X_test, y_train, y_test = train_test_split(X, y, test_size=0.2, random_state=42)"
      ]
    },
    {
      "cell_type": "code",
      "execution_count": 11,
      "metadata": {
        "id": "qN3lKkn4UKQ5"
      },
      "outputs": [],
      "source": [
        "X_train, X_val, y_train, y_val = train_test_split(X, y, test_size=0.2, random_state=42)"
      ]
    },
    {
      "cell_type": "code",
      "execution_count": 12,
      "metadata": {
        "id": "ArXaj7rReONr"
      },
      "outputs": [],
      "source": [
        "X_train = X_train.reshape(-1, 28, 28, 1)\n",
        "X_val = X_val.reshape(-1, 28, 28, 1)\n",
        "\n",
        "X_train = X_train.astype('float32')\n",
        "X_val = X_val.astype('float32')\n",
        "\n",
        "X_train /= 255\n",
        "X_val /= 255"
      ]
    },
    {
      "cell_type": "code",
      "execution_count": 13,
      "metadata": {
        "colab": {
          "base_uri": "https://localhost:8080/"
        },
        "id": "cCeZz77NUKNz",
        "outputId": "669dea13-080e-4fdd-dde2-0dbe7a4338da"
      },
      "outputs": [
        {
          "name": "stdout",
          "output_type": "stream",
          "text": [
            "Epoch 1/5\n",
            "1500/1500 [==============================] - 37s 24ms/step - loss: 0.5155 - accuracy: 0.8108 - val_loss: 0.3653 - val_accuracy: 0.8692\n",
            "Epoch 2/5\n",
            "1500/1500 [==============================] - 32s 21ms/step - loss: 0.3272 - accuracy: 0.8813 - val_loss: 0.3149 - val_accuracy: 0.8848\n",
            "Epoch 3/5\n",
            "1500/1500 [==============================] - 26s 18ms/step - loss: 0.2816 - accuracy: 0.8970 - val_loss: 0.2942 - val_accuracy: 0.8915\n",
            "Epoch 4/5\n",
            "1500/1500 [==============================] - 25s 17ms/step - loss: 0.2461 - accuracy: 0.9096 - val_loss: 0.2780 - val_accuracy: 0.8974\n",
            "Epoch 5/5\n",
            "1500/1500 [==============================] - 26s 17ms/step - loss: 0.2204 - accuracy: 0.9191 - val_loss: 0.2621 - val_accuracy: 0.9038\n"
          ]
        },
        {
          "data": {
            "text/plain": [
              "<keras.src.callbacks.History at 0x24c2ee3a350>"
            ]
          },
          "execution_count": 13,
          "metadata": {},
          "output_type": "execute_result"
        }
      ],
      "source": [
        "input_shape = (28, 28, 3)\n",
        "num_classes = 10\n",
        "\n",
        "# CNN\n",
        "model = tf.keras.Sequential([\n",
        "    tf.keras.layers.Conv2D(32, (3, 3), activation='relu', input_shape=(28, 28, 1)),\n",
        "    tf.keras.layers.MaxPooling2D((2, 2)),\n",
        "    tf.keras.layers.Conv2D(64, (3, 3), activation='relu'),\n",
        "    tf.keras.layers.MaxPooling2D((2, 2)),\n",
        "    tf.keras.layers.Conv2D(64, (3, 3), activation='relu'),\n",
        "    tf.keras.layers.Flatten(),\n",
        "    tf.keras.layers.Dense(64, activation='relu'),\n",
        "    tf.keras.layers.Dense(num_classes, activation='softmax')\n",
        "])\n",
        "\n",
        "# Compiling model\n",
        "model.compile(optimizer='adam', loss='sparse_categorical_crossentropy', metrics=['accuracy'])\n",
        "\n",
        "# Training the model\n",
        "model.fit(X_train, y_train, epochs=5, validation_data=(X_val, y_val))"
      ]
    },
    {
      "cell_type": "code",
      "execution_count": 14,
      "metadata": {
        "colab": {
          "base_uri": "https://localhost:8080/"
        },
        "id": "gwjKZoMqcPjZ",
        "outputId": "86a70677-c23f-4e66-d747-9de3bd82441c"
      },
      "outputs": [
        {
          "name": "stdout",
          "output_type": "stream",
          "text": [
            "Epoch 1/10\n",
            "750/750 [==============================] - 34s 45ms/step - loss: 0.1792 - accuracy: 0.9336 - val_loss: 0.2611 - val_accuracy: 0.9068\n",
            "Epoch 2/10\n",
            "750/750 [==============================] - 34s 45ms/step - loss: 0.1650 - accuracy: 0.9393 - val_loss: 0.2639 - val_accuracy: 0.9069\n",
            "Epoch 3/10\n",
            "750/750 [==============================] - 27s 35ms/step - loss: 0.1540 - accuracy: 0.9432 - val_loss: 0.2666 - val_accuracy: 0.9083\n",
            "Epoch 4/10\n",
            "750/750 [==============================] - 24s 32ms/step - loss: 0.1412 - accuracy: 0.9480 - val_loss: 0.2749 - val_accuracy: 0.9078\n",
            "Epoch 5/10\n",
            "750/750 [==============================] - 28s 38ms/step - loss: 0.1296 - accuracy: 0.9525 - val_loss: 0.2718 - val_accuracy: 0.9093\n",
            "Epoch 6/10\n",
            "750/750 [==============================] - 27s 36ms/step - loss: 0.1181 - accuracy: 0.9574 - val_loss: 0.2805 - val_accuracy: 0.9111\n",
            "Epoch 7/10\n",
            "750/750 [==============================] - 28s 38ms/step - loss: 0.1082 - accuracy: 0.9600 - val_loss: 0.2965 - val_accuracy: 0.9093\n",
            "Epoch 8/10\n",
            "750/750 [==============================] - 30s 40ms/step - loss: 0.0996 - accuracy: 0.9629 - val_loss: 0.2991 - val_accuracy: 0.9088\n",
            "Epoch 9/10\n",
            "750/750 [==============================] - 41s 54ms/step - loss: 0.0871 - accuracy: 0.9671 - val_loss: 0.3217 - val_accuracy: 0.9109\n",
            "Epoch 10/10\n",
            "750/750 [==============================] - 45s 59ms/step - loss: 0.0828 - accuracy: 0.9692 - val_loss: 0.3565 - val_accuracy: 0.9064\n",
            "375/375 - 3s - loss: 0.3565 - accuracy: 0.9064 - 3s/epoch - 7ms/step\n",
            "\n",
            "Test accuracy: 0.906416654586792\n"
          ]
        }
      ],
      "source": [
        "# Parameters adjusting\n",
        "history = model.fit(X_train, y_train, batch_size=64, epochs=10, validation_data=(X_val, y_val))\n",
        "\n",
        "X_test = X_test.reshape(-1, 28, 28, 1)\n",
        "X_test = X_test.astype('float32')\n",
        "X_test /= 255\n",
        "\n",
        "# Evaluating the model on the test set\n",
        "test_loss, test_acc = model.evaluate(X_test, y_test, verbose=2)\n",
        "\n",
        "print('\\nTest accuracy:', test_acc)"
      ]
    },
    {
      "cell_type": "code",
      "execution_count": null,
      "metadata": {
        "id": "WrzE_UgexjT1"
      },
      "outputs": [],
      "source": []
    }
  ],
  "metadata": {
    "accelerator": "GPU",
    "colab": {
      "gpuType": "T4",
      "provenance": []
    },
    "kernelspec": {
      "display_name": "Python 3",
      "name": "python3"
    },
    "language_info": {
      "codemirror_mode": {
        "name": "ipython",
        "version": 3
      },
      "file_extension": ".py",
      "mimetype": "text/x-python",
      "name": "python",
      "nbconvert_exporter": "python",
      "pygments_lexer": "ipython3",
      "version": "3.11.6"
    }
  },
  "nbformat": 4,
  "nbformat_minor": 0
}
